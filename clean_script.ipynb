{
 "cells": [
  {
   "cell_type": "code",
   "execution_count": 1,
   "id": "bb7a5403",
   "metadata": {},
   "outputs": [],
   "source": [
    "import pandas as pd\n",
    "import numpy as np"
   ]
  },
  {
   "cell_type": "code",
   "execution_count": 44,
   "id": "fb232c65",
   "metadata": {},
   "outputs": [],
   "source": [
    "df = pd.read_csv('raw_genres.csv')"
   ]
  },
  {
   "cell_type": "code",
   "execution_count": 45,
   "id": "10462bab",
   "metadata": {},
   "outputs": [
    {
     "data": {
      "text/html": [
       "<div>\n",
       "<style scoped>\n",
       "    .dataframe tbody tr th:only-of-type {\n",
       "        vertical-align: middle;\n",
       "    }\n",
       "\n",
       "    .dataframe tbody tr th {\n",
       "        vertical-align: top;\n",
       "    }\n",
       "\n",
       "    .dataframe thead th {\n",
       "        text-align: right;\n",
       "    }\n",
       "</style>\n",
       "<table border=\"1\" class=\"dataframe\">\n",
       "  <thead>\n",
       "    <tr style=\"text-align: right;\">\n",
       "      <th></th>\n",
       "      <th>genre_id</th>\n",
       "      <th>genre_color</th>\n",
       "      <th>genre_handle</th>\n",
       "      <th>genre_parent_id</th>\n",
       "      <th>genre_title</th>\n",
       "    </tr>\n",
       "  </thead>\n",
       "  <tbody>\n",
       "    <tr>\n",
       "      <th>0</th>\n",
       "      <td>1</td>\n",
       "      <td>#006666</td>\n",
       "      <td>Avant-Garde</td>\n",
       "      <td>38.0</td>\n",
       "      <td>Avant-Garde</td>\n",
       "    </tr>\n",
       "    <tr>\n",
       "      <th>1</th>\n",
       "      <td>2</td>\n",
       "      <td>#CC3300</td>\n",
       "      <td>International</td>\n",
       "      <td>NaN</td>\n",
       "      <td>International</td>\n",
       "    </tr>\n",
       "    <tr>\n",
       "      <th>2</th>\n",
       "      <td>3</td>\n",
       "      <td>#000099</td>\n",
       "      <td>Blues</td>\n",
       "      <td>NaN</td>\n",
       "      <td>Blues</td>\n",
       "    </tr>\n",
       "    <tr>\n",
       "      <th>3</th>\n",
       "      <td>4</td>\n",
       "      <td>#990099</td>\n",
       "      <td>Jazz</td>\n",
       "      <td>NaN</td>\n",
       "      <td>Jazz</td>\n",
       "    </tr>\n",
       "    <tr>\n",
       "      <th>4</th>\n",
       "      <td>5</td>\n",
       "      <td>#8A8A65</td>\n",
       "      <td>Classical</td>\n",
       "      <td>NaN</td>\n",
       "      <td>Classical</td>\n",
       "    </tr>\n",
       "    <tr>\n",
       "      <th>...</th>\n",
       "      <td>...</td>\n",
       "      <td>...</td>\n",
       "      <td>...</td>\n",
       "      <td>...</td>\n",
       "      <td>...</td>\n",
       "    </tr>\n",
       "    <tr>\n",
       "      <th>159</th>\n",
       "      <td>1032</td>\n",
       "      <td>#CC3300</td>\n",
       "      <td>Turkish</td>\n",
       "      <td>102.0</td>\n",
       "      <td>Turkish</td>\n",
       "    </tr>\n",
       "    <tr>\n",
       "      <th>160</th>\n",
       "      <td>1060</td>\n",
       "      <td>#CC3300</td>\n",
       "      <td>tango</td>\n",
       "      <td>46.0</td>\n",
       "      <td>Tango</td>\n",
       "    </tr>\n",
       "    <tr>\n",
       "      <th>161</th>\n",
       "      <td>1156</td>\n",
       "      <td>#CC3300</td>\n",
       "      <td>Fado</td>\n",
       "      <td>130.0</td>\n",
       "      <td>Fado</td>\n",
       "    </tr>\n",
       "    <tr>\n",
       "      <th>162</th>\n",
       "      <td>1193</td>\n",
       "      <td>#D4A017</td>\n",
       "      <td>Christmas</td>\n",
       "      <td>763.0</td>\n",
       "      <td>Christmas</td>\n",
       "    </tr>\n",
       "    <tr>\n",
       "      <th>163</th>\n",
       "      <td>1235</td>\n",
       "      <td>#000000</td>\n",
       "      <td>Instrumental</td>\n",
       "      <td>NaN</td>\n",
       "      <td>Instrumental</td>\n",
       "    </tr>\n",
       "  </tbody>\n",
       "</table>\n",
       "<p>164 rows × 5 columns</p>\n",
       "</div>"
      ],
      "text/plain": [
       "     genre_id genre_color   genre_handle  genre_parent_id    genre_title\n",
       "0           1     #006666    Avant-Garde             38.0    Avant-Garde\n",
       "1           2     #CC3300  International              NaN  International\n",
       "2           3     #000099          Blues              NaN          Blues\n",
       "3           4     #990099           Jazz              NaN           Jazz\n",
       "4           5     #8A8A65      Classical              NaN      Classical\n",
       "..        ...         ...            ...              ...            ...\n",
       "159      1032     #CC3300        Turkish            102.0        Turkish\n",
       "160      1060     #CC3300          tango             46.0          Tango\n",
       "161      1156     #CC3300           Fado            130.0           Fado\n",
       "162      1193     #D4A017      Christmas            763.0      Christmas\n",
       "163      1235     #000000   Instrumental              NaN   Instrumental\n",
       "\n",
       "[164 rows x 5 columns]"
      ]
     },
     "execution_count": 45,
     "metadata": {},
     "output_type": "execute_result"
    }
   ],
   "source": [
    "df"
   ]
  },
  {
   "cell_type": "code",
   "execution_count": 46,
   "id": "37484175",
   "metadata": {},
   "outputs": [
    {
     "data": {
      "text/plain": [
       "genre_id            0\n",
       "genre_color         0\n",
       "genre_handle        0\n",
       "genre_parent_id    15\n",
       "genre_title         0\n",
       "dtype: int64"
      ]
     },
     "execution_count": 46,
     "metadata": {},
     "output_type": "execute_result"
    }
   ],
   "source": [
    "df.isnull().sum()"
   ]
  },
  {
   "cell_type": "code",
   "execution_count": 49,
   "id": "c14653c8",
   "metadata": {},
   "outputs": [
    {
     "data": {
      "text/plain": [
       "genre_id           0\n",
       "genre_color        0\n",
       "genre_handle       0\n",
       "genre_parent_id    0\n",
       "genre_title        0\n",
       "dtype: int64"
      ]
     },
     "execution_count": 49,
     "metadata": {},
     "output_type": "execute_result"
    }
   ],
   "source": [
    "df.isnull().sum()"
   ]
  },
  {
   "cell_type": "code",
   "execution_count": 39,
   "id": "73e66f41",
   "metadata": {},
   "outputs": [],
   "source": [
    "df = df[df['album_id'].notna() & (df['album_id'] != '')]"
   ]
  },
  {
   "cell_type": "code",
   "execution_count": 48,
   "id": "f8dcdca7",
   "metadata": {},
   "outputs": [],
   "source": [
    "df = df.fillna('NA')"
   ]
  },
  {
   "cell_type": "code",
   "execution_count": 50,
   "id": "e6ff9952",
   "metadata": {},
   "outputs": [],
   "source": [
    "df.to_csv('genres.csv', index=False)"
   ]
  }
 ],
 "metadata": {
  "kernelspec": {
   "display_name": "Python 3",
   "language": "python",
   "name": "python3"
  },
  "language_info": {
   "codemirror_mode": {
    "name": "ipython",
    "version": 3
   },
   "file_extension": ".py",
   "mimetype": "text/x-python",
   "name": "python",
   "nbconvert_exporter": "python",
   "pygments_lexer": "ipython3",
   "version": "3.13.3"
  }
 },
 "nbformat": 4,
 "nbformat_minor": 5
}
